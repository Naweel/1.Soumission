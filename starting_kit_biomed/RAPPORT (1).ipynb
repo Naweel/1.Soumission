{
 "cells": [
  {
   "cell_type": "markdown",
   "metadata": {},
   "source": [
    "<center>\n",
    "<h1>Biomed Challenge Starting Kit</h1>\n",
    "<br>This code was tested with <br>\n",
    "Python 2.7 | Anaconda 2.2.0 64-bit (https://anaconda.org/)<br>\n",
    "</center>\n",
    "<p><br>\n"
   ]
  },
  {
   "cell_type": "markdown",
   "metadata": {},
   "source": [
    "</div>\n",
    "ALL INFORMATION, SOFTWARE, DOCUMENTATION, AND DATA ARE PROVIDED \"AS-IS\". The CDS, CHALEARN, AND/OR OTHER ORGANIZERS OR CODE AUTHORS DISCLAIM ANY EXPRESSED OR IMPLIED WARRANTIES, INCLUDING, BUT NOT LIMITED TO, THE IMPLIED WARRANTIES OF MERCHANTABILITY AND FITNESS FOR ANY PARTICULAR PURPOSE, AND THE WARRANTY OF NON-INFRIGEMENT OF ANY THIRD PARTY'S INTELLECTUAL PROPERTY RIGHTS. IN NO EVENT SHALL AUTHORS AND ORGANIZERS BE LIABLE FOR ANY SPECIAL, INDIRECT OR CONSEQUENTIAL DAMAGES OR ANY DAMAGES WHATSOEVER ARISING OUT OF OR IN CONNECTION WITH THE USE OR PERFORMANCE OF SOFTWARE, DOCUMENTS, MATERIALS, PUBLICATIONS, OR INFORMATION MADE AVAILABLE FOR THE CHALLENGE."
   ]
  },
  {
   "cell_type": "markdown",
   "metadata": {},
   "source": [
    "# Introduction\n",
    "\n",
    "Opioids is a small standard binary-class classification data set from the <a href=\"https://www.kaggle.com/apryor6/us-opiate-prescriptions\">Kaggle Dataset Repository</a>, formatted in the AutoML format."
   ]
  },
  {
   "cell_type": "code",
   "execution_count": 1,
   "metadata": {},
   "outputs": [],
   "source": [
    "model_dir = 'sample_code_submission/'          \n",
    "problem_dir = 'ingestion_program/'  \n",
    "score_dir = 'scoring_program/'\n",
    "from sys import path; path.append(model_dir); path.append(problem_dir); path.append(score_dir); \n",
    "%matplotlib inline\n",
    "%load_ext autoreload\n",
    "%autoreload 2\n",
    "import seaborn as sns; sns.set()"
   ]
  },
  {
   "cell_type": "markdown",
   "metadata": {},
   "source": [
    "# Step 1: Exploratory data analysis\n",
    "We provide sample_data with the starting kit, but to prepare your submission, you must fetch the opioid_prescribers dataset from the repository."
   ]
  },
  {
   "cell_type": "code",
   "execution_count": 2,
   "metadata": {
    "collapsed": true
   },
   "outputs": [],
   "source": [
    "datadir = 'sample_data'              # Change this to the directory where you put the input data\n",
    "dataname = 'Opioids'\n",
    "#!dir $datadir*"
   ]
  },
  {
   "cell_type": "markdown",
   "metadata": {},
   "source": [
    "For convenience, we load the data as a \"pandas\" data frame, so we can use \"pandas\" and \"seaborn\" built in functions to explore the data."
   ]
  },
  {
   "cell_type": "code",
   "execution_count": 3,
   "metadata": {},
   "outputs": [
    {
     "name": "stdout",
     "output_type": "stream",
     "text": [
      "Reading sample_data/Opioids_train from AutoML format\n",
      "Number of examples = 50\n",
      "Number of features = 243\n",
      "Number of labels = 1\n"
     ]
    }
   ],
   "source": [
    "from data_io import read_as_df\n",
    "data = read_as_df(datadir  + '/' + dataname) "
   ]
  },
  {
   "cell_type": "code",
   "execution_count": 4,
   "metadata": {},
   "outputs": [
    {
     "data": {
      "text/html": [
       "<div>\n",
       "<style>\n",
       "    .dataframe thead tr:only-child th {\n",
       "        text-align: right;\n",
       "    }\n",
       "\n",
       "    .dataframe thead th {\n",
       "        text-align: left;\n",
       "    }\n",
       "\n",
       "    .dataframe tbody tr th {\n",
       "        vertical-align: top;\n",
       "    }\n",
       "</style>\n",
       "<table border=\"1\" class=\"dataframe\">\n",
       "  <thead>\n",
       "    <tr style=\"text-align: right;\">\n",
       "      <th></th>\n",
       "      <th>Gender</th>\n",
       "      <th>State</th>\n",
       "      <th>Credentials</th>\n",
       "      <th>Specialty</th>\n",
       "      <th>ABILIFY</th>\n",
       "      <th>ACYCLOVIR</th>\n",
       "      <th>ADVAIR.DISKUS</th>\n",
       "      <th>AGGRENOX</th>\n",
       "      <th>ALENDRONATE.SODIUM</th>\n",
       "      <th>ALLOPURINOL</th>\n",
       "      <th>...</th>\n",
       "      <th>VERAPAMIL.ER</th>\n",
       "      <th>VESICARE</th>\n",
       "      <th>VOLTAREN</th>\n",
       "      <th>VYTORIN</th>\n",
       "      <th>WARFARIN.SODIUM</th>\n",
       "      <th>XARELTO</th>\n",
       "      <th>ZETIA</th>\n",
       "      <th>ZIPRASIDONE.HCL</th>\n",
       "      <th>ZOLPIDEM.TARTRATE</th>\n",
       "      <th>Target</th>\n",
       "    </tr>\n",
       "  </thead>\n",
       "  <tbody>\n",
       "    <tr>\n",
       "      <th>0</th>\n",
       "      <td>1</td>\n",
       "      <td>5</td>\n",
       "      <td>0</td>\n",
       "      <td>0</td>\n",
       "      <td>0</td>\n",
       "      <td>0</td>\n",
       "      <td>0</td>\n",
       "      <td>0</td>\n",
       "      <td>0</td>\n",
       "      <td>0</td>\n",
       "      <td>...</td>\n",
       "      <td>0</td>\n",
       "      <td>0</td>\n",
       "      <td>0</td>\n",
       "      <td>0</td>\n",
       "      <td>0</td>\n",
       "      <td>0</td>\n",
       "      <td>0</td>\n",
       "      <td>0</td>\n",
       "      <td>0</td>\n",
       "      <td>0</td>\n",
       "    </tr>\n",
       "    <tr>\n",
       "      <th>1</th>\n",
       "      <td>0</td>\n",
       "      <td>14</td>\n",
       "      <td>6</td>\n",
       "      <td>0</td>\n",
       "      <td>0</td>\n",
       "      <td>0</td>\n",
       "      <td>0</td>\n",
       "      <td>0</td>\n",
       "      <td>0</td>\n",
       "      <td>0</td>\n",
       "      <td>...</td>\n",
       "      <td>0</td>\n",
       "      <td>0</td>\n",
       "      <td>0</td>\n",
       "      <td>0</td>\n",
       "      <td>0</td>\n",
       "      <td>0</td>\n",
       "      <td>0</td>\n",
       "      <td>0</td>\n",
       "      <td>0</td>\n",
       "      <td>0</td>\n",
       "    </tr>\n",
       "    <tr>\n",
       "      <th>2</th>\n",
       "      <td>1</td>\n",
       "      <td>10</td>\n",
       "      <td>15</td>\n",
       "      <td>11</td>\n",
       "      <td>0</td>\n",
       "      <td>0</td>\n",
       "      <td>0</td>\n",
       "      <td>0</td>\n",
       "      <td>0</td>\n",
       "      <td>0</td>\n",
       "      <td>...</td>\n",
       "      <td>0</td>\n",
       "      <td>0</td>\n",
       "      <td>0</td>\n",
       "      <td>0</td>\n",
       "      <td>0</td>\n",
       "      <td>0</td>\n",
       "      <td>0</td>\n",
       "      <td>0</td>\n",
       "      <td>0</td>\n",
       "      <td>1</td>\n",
       "    </tr>\n",
       "    <tr>\n",
       "      <th>3</th>\n",
       "      <td>0</td>\n",
       "      <td>19</td>\n",
       "      <td>2</td>\n",
       "      <td>4</td>\n",
       "      <td>0</td>\n",
       "      <td>0</td>\n",
       "      <td>0</td>\n",
       "      <td>0</td>\n",
       "      <td>0</td>\n",
       "      <td>28</td>\n",
       "      <td>...</td>\n",
       "      <td>0</td>\n",
       "      <td>0</td>\n",
       "      <td>0</td>\n",
       "      <td>0</td>\n",
       "      <td>13</td>\n",
       "      <td>24</td>\n",
       "      <td>0</td>\n",
       "      <td>0</td>\n",
       "      <td>0</td>\n",
       "      <td>1</td>\n",
       "    </tr>\n",
       "    <tr>\n",
       "      <th>4</th>\n",
       "      <td>1</td>\n",
       "      <td>21</td>\n",
       "      <td>55</td>\n",
       "      <td>6</td>\n",
       "      <td>0</td>\n",
       "      <td>0</td>\n",
       "      <td>0</td>\n",
       "      <td>0</td>\n",
       "      <td>0</td>\n",
       "      <td>0</td>\n",
       "      <td>...</td>\n",
       "      <td>0</td>\n",
       "      <td>0</td>\n",
       "      <td>0</td>\n",
       "      <td>0</td>\n",
       "      <td>0</td>\n",
       "      <td>0</td>\n",
       "      <td>0</td>\n",
       "      <td>0</td>\n",
       "      <td>0</td>\n",
       "      <td>0</td>\n",
       "    </tr>\n",
       "  </tbody>\n",
       "</table>\n",
       "<p>5 rows × 244 columns</p>\n",
       "</div>"
      ],
      "text/plain": [
       "   Gender  State  Credentials  Specialty  ABILIFY  ACYCLOVIR  ADVAIR.DISKUS  \\\n",
       "0       1      5            0          0        0          0              0   \n",
       "1       0     14            6          0        0          0              0   \n",
       "2       1     10           15         11        0          0              0   \n",
       "3       0     19            2          4        0          0              0   \n",
       "4       1     21           55          6        0          0              0   \n",
       "\n",
       "   AGGRENOX  ALENDRONATE.SODIUM  ALLOPURINOL   ...    VERAPAMIL.ER  VESICARE  \\\n",
       "0         0                   0            0   ...               0         0   \n",
       "1         0                   0            0   ...               0         0   \n",
       "2         0                   0            0   ...               0         0   \n",
       "3         0                   0           28   ...               0         0   \n",
       "4         0                   0            0   ...               0         0   \n",
       "\n",
       "   VOLTAREN  VYTORIN  WARFARIN.SODIUM  XARELTO  ZETIA  ZIPRASIDONE.HCL  \\\n",
       "0         0        0                0        0      0                0   \n",
       "1         0        0                0        0      0                0   \n",
       "2         0        0                0        0      0                0   \n",
       "3         0        0               13       24      0                0   \n",
       "4         0        0                0        0      0                0   \n",
       "\n",
       "   ZOLPIDEM.TARTRATE  Target  \n",
       "0                  0       0  \n",
       "1                  0       0  \n",
       "2                  0       1  \n",
       "3                  0       1  \n",
       "4                  0       0  \n",
       "\n",
       "[5 rows x 244 columns]"
      ]
     },
     "execution_count": 4,
     "metadata": {},
     "output_type": "execute_result"
    }
   ],
   "source": [
    "data.head()"
   ]
  },
  {
   "cell_type": "code",
   "execution_count": 5,
   "metadata": {},
   "outputs": [
    {
     "data": {
      "text/plain": [
       "(50, 244)"
      ]
     },
     "execution_count": 5,
     "metadata": {},
     "output_type": "execute_result"
    }
   ],
   "source": [
    "data.shape"
   ]
  },
  {
   "cell_type": "code",
   "execution_count": 6,
   "metadata": {
    "scrolled": true
   },
   "outputs": [
    {
     "data": {
      "text/html": [
       "<div>\n",
       "<style>\n",
       "    .dataframe thead tr:only-child th {\n",
       "        text-align: right;\n",
       "    }\n",
       "\n",
       "    .dataframe thead th {\n",
       "        text-align: left;\n",
       "    }\n",
       "\n",
       "    .dataframe tbody tr th {\n",
       "        vertical-align: top;\n",
       "    }\n",
       "</style>\n",
       "<table border=\"1\" class=\"dataframe\">\n",
       "  <thead>\n",
       "    <tr style=\"text-align: right;\">\n",
       "      <th></th>\n",
       "      <th>Gender</th>\n",
       "      <th>State</th>\n",
       "      <th>Credentials</th>\n",
       "      <th>Specialty</th>\n",
       "      <th>ABILIFY</th>\n",
       "      <th>ACYCLOVIR</th>\n",
       "      <th>ADVAIR.DISKUS</th>\n",
       "      <th>AGGRENOX</th>\n",
       "      <th>ALENDRONATE.SODIUM</th>\n",
       "      <th>ALLOPURINOL</th>\n",
       "      <th>...</th>\n",
       "      <th>VERAPAMIL.ER</th>\n",
       "      <th>VESICARE</th>\n",
       "      <th>VOLTAREN</th>\n",
       "      <th>VYTORIN</th>\n",
       "      <th>WARFARIN.SODIUM</th>\n",
       "      <th>XARELTO</th>\n",
       "      <th>ZETIA</th>\n",
       "      <th>ZIPRASIDONE.HCL</th>\n",
       "      <th>ZOLPIDEM.TARTRATE</th>\n",
       "      <th>Target</th>\n",
       "    </tr>\n",
       "  </thead>\n",
       "  <tbody>\n",
       "    <tr>\n",
       "      <th>count</th>\n",
       "      <td>50.000000</td>\n",
       "      <td>50.000000</td>\n",
       "      <td>50.000000</td>\n",
       "      <td>50.000000</td>\n",
       "      <td>50.000000</td>\n",
       "      <td>50.00000</td>\n",
       "      <td>50.000000</td>\n",
       "      <td>50.000000</td>\n",
       "      <td>50.000000</td>\n",
       "      <td>50.000000</td>\n",
       "      <td>...</td>\n",
       "      <td>50.000000</td>\n",
       "      <td>50.000000</td>\n",
       "      <td>50.000000</td>\n",
       "      <td>50.000000</td>\n",
       "      <td>50.000000</td>\n",
       "      <td>50.000000</td>\n",
       "      <td>50.00000</td>\n",
       "      <td>50.000000</td>\n",
       "      <td>50.000000</td>\n",
       "      <td>50.000000</td>\n",
       "    </tr>\n",
       "    <tr>\n",
       "      <th>mean</th>\n",
       "      <td>0.420000</td>\n",
       "      <td>15.900000</td>\n",
       "      <td>25.060000</td>\n",
       "      <td>9.880000</td>\n",
       "      <td>1.280000</td>\n",
       "      <td>0.46000</td>\n",
       "      <td>6.600000</td>\n",
       "      <td>0.760000</td>\n",
       "      <td>10.760000</td>\n",
       "      <td>9.880000</td>\n",
       "      <td>...</td>\n",
       "      <td>2.340000</td>\n",
       "      <td>1.760000</td>\n",
       "      <td>1.400000</td>\n",
       "      <td>0.560000</td>\n",
       "      <td>16.440000</td>\n",
       "      <td>3.160000</td>\n",
       "      <td>2.86000</td>\n",
       "      <td>0.660000</td>\n",
       "      <td>10.780000</td>\n",
       "      <td>0.640000</td>\n",
       "    </tr>\n",
       "    <tr>\n",
       "      <th>std</th>\n",
       "      <td>0.498569</td>\n",
       "      <td>13.515297</td>\n",
       "      <td>82.213364</td>\n",
       "      <td>9.130885</td>\n",
       "      <td>7.304011</td>\n",
       "      <td>2.27865</td>\n",
       "      <td>15.230206</td>\n",
       "      <td>3.054338</td>\n",
       "      <td>30.499622</td>\n",
       "      <td>20.499517</td>\n",
       "      <td>...</td>\n",
       "      <td>7.800078</td>\n",
       "      <td>5.832912</td>\n",
       "      <td>4.836089</td>\n",
       "      <td>3.959798</td>\n",
       "      <td>39.703061</td>\n",
       "      <td>14.883713</td>\n",
       "      <td>7.89991</td>\n",
       "      <td>4.666905</td>\n",
       "      <td>24.698418</td>\n",
       "      <td>0.484873</td>\n",
       "    </tr>\n",
       "    <tr>\n",
       "      <th>min</th>\n",
       "      <td>0.000000</td>\n",
       "      <td>0.000000</td>\n",
       "      <td>0.000000</td>\n",
       "      <td>0.000000</td>\n",
       "      <td>0.000000</td>\n",
       "      <td>0.00000</td>\n",
       "      <td>0.000000</td>\n",
       "      <td>0.000000</td>\n",
       "      <td>0.000000</td>\n",
       "      <td>0.000000</td>\n",
       "      <td>...</td>\n",
       "      <td>0.000000</td>\n",
       "      <td>0.000000</td>\n",
       "      <td>0.000000</td>\n",
       "      <td>0.000000</td>\n",
       "      <td>0.000000</td>\n",
       "      <td>0.000000</td>\n",
       "      <td>0.00000</td>\n",
       "      <td>0.000000</td>\n",
       "      <td>0.000000</td>\n",
       "      <td>0.000000</td>\n",
       "    </tr>\n",
       "    <tr>\n",
       "      <th>25%</th>\n",
       "      <td>0.000000</td>\n",
       "      <td>3.500000</td>\n",
       "      <td>1.000000</td>\n",
       "      <td>4.000000</td>\n",
       "      <td>0.000000</td>\n",
       "      <td>0.00000</td>\n",
       "      <td>0.000000</td>\n",
       "      <td>0.000000</td>\n",
       "      <td>0.000000</td>\n",
       "      <td>0.000000</td>\n",
       "      <td>...</td>\n",
       "      <td>0.000000</td>\n",
       "      <td>0.000000</td>\n",
       "      <td>0.000000</td>\n",
       "      <td>0.000000</td>\n",
       "      <td>0.000000</td>\n",
       "      <td>0.000000</td>\n",
       "      <td>0.00000</td>\n",
       "      <td>0.000000</td>\n",
       "      <td>0.000000</td>\n",
       "      <td>0.000000</td>\n",
       "    </tr>\n",
       "    <tr>\n",
       "      <th>50%</th>\n",
       "      <td>0.000000</td>\n",
       "      <td>13.000000</td>\n",
       "      <td>2.000000</td>\n",
       "      <td>6.000000</td>\n",
       "      <td>0.000000</td>\n",
       "      <td>0.00000</td>\n",
       "      <td>0.000000</td>\n",
       "      <td>0.000000</td>\n",
       "      <td>0.000000</td>\n",
       "      <td>0.000000</td>\n",
       "      <td>...</td>\n",
       "      <td>0.000000</td>\n",
       "      <td>0.000000</td>\n",
       "      <td>0.000000</td>\n",
       "      <td>0.000000</td>\n",
       "      <td>0.000000</td>\n",
       "      <td>0.000000</td>\n",
       "      <td>0.00000</td>\n",
       "      <td>0.000000</td>\n",
       "      <td>0.000000</td>\n",
       "      <td>1.000000</td>\n",
       "    </tr>\n",
       "    <tr>\n",
       "      <th>75%</th>\n",
       "      <td>1.000000</td>\n",
       "      <td>21.000000</td>\n",
       "      <td>6.000000</td>\n",
       "      <td>15.250000</td>\n",
       "      <td>0.000000</td>\n",
       "      <td>0.00000</td>\n",
       "      <td>0.000000</td>\n",
       "      <td>0.000000</td>\n",
       "      <td>0.000000</td>\n",
       "      <td>8.250000</td>\n",
       "      <td>...</td>\n",
       "      <td>0.000000</td>\n",
       "      <td>0.000000</td>\n",
       "      <td>0.000000</td>\n",
       "      <td>0.000000</td>\n",
       "      <td>0.000000</td>\n",
       "      <td>0.000000</td>\n",
       "      <td>0.00000</td>\n",
       "      <td>0.000000</td>\n",
       "      <td>0.000000</td>\n",
       "      <td>1.000000</td>\n",
       "    </tr>\n",
       "    <tr>\n",
       "      <th>max</th>\n",
       "      <td>1.000000</td>\n",
       "      <td>51.000000</td>\n",
       "      <td>447.000000</td>\n",
       "      <td>33.000000</td>\n",
       "      <td>50.000000</td>\n",
       "      <td>12.00000</td>\n",
       "      <td>61.000000</td>\n",
       "      <td>14.000000</td>\n",
       "      <td>181.000000</td>\n",
       "      <td>82.000000</td>\n",
       "      <td>...</td>\n",
       "      <td>41.000000</td>\n",
       "      <td>32.000000</td>\n",
       "      <td>21.000000</td>\n",
       "      <td>28.000000</td>\n",
       "      <td>164.000000</td>\n",
       "      <td>97.000000</td>\n",
       "      <td>40.00000</td>\n",
       "      <td>33.000000</td>\n",
       "      <td>122.000000</td>\n",
       "      <td>1.000000</td>\n",
       "    </tr>\n",
       "  </tbody>\n",
       "</table>\n",
       "<p>8 rows × 244 columns</p>\n",
       "</div>"
      ],
      "text/plain": [
       "          Gender      State  Credentials  Specialty    ABILIFY  ACYCLOVIR  \\\n",
       "count  50.000000  50.000000    50.000000  50.000000  50.000000   50.00000   \n",
       "mean    0.420000  15.900000    25.060000   9.880000   1.280000    0.46000   \n",
       "std     0.498569  13.515297    82.213364   9.130885   7.304011    2.27865   \n",
       "min     0.000000   0.000000     0.000000   0.000000   0.000000    0.00000   \n",
       "25%     0.000000   3.500000     1.000000   4.000000   0.000000    0.00000   \n",
       "50%     0.000000  13.000000     2.000000   6.000000   0.000000    0.00000   \n",
       "75%     1.000000  21.000000     6.000000  15.250000   0.000000    0.00000   \n",
       "max     1.000000  51.000000   447.000000  33.000000  50.000000   12.00000   \n",
       "\n",
       "       ADVAIR.DISKUS   AGGRENOX  ALENDRONATE.SODIUM  ALLOPURINOL    ...      \\\n",
       "count      50.000000  50.000000           50.000000    50.000000    ...       \n",
       "mean        6.600000   0.760000           10.760000     9.880000    ...       \n",
       "std        15.230206   3.054338           30.499622    20.499517    ...       \n",
       "min         0.000000   0.000000            0.000000     0.000000    ...       \n",
       "25%         0.000000   0.000000            0.000000     0.000000    ...       \n",
       "50%         0.000000   0.000000            0.000000     0.000000    ...       \n",
       "75%         0.000000   0.000000            0.000000     8.250000    ...       \n",
       "max        61.000000  14.000000          181.000000    82.000000    ...       \n",
       "\n",
       "       VERAPAMIL.ER   VESICARE   VOLTAREN    VYTORIN  WARFARIN.SODIUM  \\\n",
       "count     50.000000  50.000000  50.000000  50.000000        50.000000   \n",
       "mean       2.340000   1.760000   1.400000   0.560000        16.440000   \n",
       "std        7.800078   5.832912   4.836089   3.959798        39.703061   \n",
       "min        0.000000   0.000000   0.000000   0.000000         0.000000   \n",
       "25%        0.000000   0.000000   0.000000   0.000000         0.000000   \n",
       "50%        0.000000   0.000000   0.000000   0.000000         0.000000   \n",
       "75%        0.000000   0.000000   0.000000   0.000000         0.000000   \n",
       "max       41.000000  32.000000  21.000000  28.000000       164.000000   \n",
       "\n",
       "         XARELTO     ZETIA  ZIPRASIDONE.HCL  ZOLPIDEM.TARTRATE     Target  \n",
       "count  50.000000  50.00000        50.000000          50.000000  50.000000  \n",
       "mean    3.160000   2.86000         0.660000          10.780000   0.640000  \n",
       "std    14.883713   7.89991         4.666905          24.698418   0.484873  \n",
       "min     0.000000   0.00000         0.000000           0.000000   0.000000  \n",
       "25%     0.000000   0.00000         0.000000           0.000000   0.000000  \n",
       "50%     0.000000   0.00000         0.000000           0.000000   1.000000  \n",
       "75%     0.000000   0.00000         0.000000           0.000000   1.000000  \n",
       "max    97.000000  40.00000        33.000000         122.000000   1.000000  \n",
       "\n",
       "[8 rows x 244 columns]"
      ]
     },
     "execution_count": 6,
     "metadata": {},
     "output_type": "execute_result"
    }
   ],
   "source": [
    "data.describe() "
   ]
  },
  {
   "cell_type": "code",
   "execution_count": 7,
   "metadata": {},
   "outputs": [
    {
     "name": "stdout",
     "output_type": "stream",
     "text": [
      "0     1\n",
      "1     0\n",
      "2     1\n",
      "3     0\n",
      "4     1\n",
      "5     1\n",
      "6     1\n",
      "7     1\n",
      "8     0\n",
      "9     1\n",
      "10    0\n",
      "11    1\n",
      "12    0\n",
      "13    0\n",
      "14    0\n",
      "15    0\n",
      "16    0\n",
      "17    0\n",
      "18    1\n",
      "19    0\n",
      "20    0\n",
      "21    1\n",
      "22    0\n",
      "23    0\n",
      "24    1\n",
      "25    1\n",
      "26    1\n",
      "27    1\n",
      "28    1\n",
      "29    1\n",
      "30    0\n",
      "31    0\n",
      "32    0\n",
      "33    1\n",
      "34    0\n",
      "35    1\n",
      "36    0\n",
      "37    0\n",
      "38    0\n",
      "39    0\n",
      "40    0\n",
      "41    1\n",
      "42    0\n",
      "43    1\n",
      "44    0\n",
      "45    0\n",
      "46    0\n",
      "47    0\n",
      "48    1\n",
      "49    0\n",
      "Name: Gender, dtype: int64\n"
     ]
    }
   ],
   "source": [
    "print(data.Gender)"
   ]
  },
  {
   "cell_type": "code",
   "execution_count": 8,
   "metadata": {},
   "outputs": [
    {
     "name": "stdout",
     "output_type": "stream",
     "text": [
      "0      5\n",
      "1     14\n",
      "2     10\n",
      "3     19\n",
      "4     21\n",
      "5      0\n",
      "6      5\n",
      "7      0\n",
      "8     13\n",
      "9     10\n",
      "10    33\n",
      "11    37\n",
      "12     2\n",
      "13    33\n",
      "14     2\n",
      "15     0\n",
      "16    40\n",
      "17    32\n",
      "18     3\n",
      "19    12\n",
      "20     3\n",
      "21     2\n",
      "22    10\n",
      "23    21\n",
      "24    17\n",
      "25     0\n",
      "26    21\n",
      "27     5\n",
      "28    19\n",
      "29    36\n",
      "30    13\n",
      "31    21\n",
      "32    10\n",
      "33    20\n",
      "34     5\n",
      "35     3\n",
      "36    21\n",
      "37    21\n",
      "38    11\n",
      "39    37\n",
      "40    18\n",
      "41     2\n",
      "42    42\n",
      "43    42\n",
      "44    51\n",
      "45    17\n",
      "46     2\n",
      "47    13\n",
      "48    21\n",
      "49     0\n",
      "Name: State, dtype: int64\n"
     ]
    }
   ],
   "source": [
    "print(data.State)"
   ]
  },
  {
   "cell_type": "code",
   "execution_count": 9,
   "metadata": {},
   "outputs": [
    {
     "data": {
      "image/png": "[encoded data removed]",
      "text/plain": [
       "<matplotlib.figure.Figure at 0x7f895be61710>"
      ]
     },
     "metadata": {},
     "output_type": "display_data"
    }
   ],
   "source": [
    "data[data.columns[:10]].hist(figsize=(10, 20), bins=50, layout=(5, 2)); "
   ]
  },
  {
   "cell_type": "markdown",
   "metadata": {},
   "source": [
    "## Categorical Features' and Target's distributions "
   ]
  },
  {
   "cell_type": "code",
   "execution_count": 10,
   "metadata": {},
   "outputs": [
    {
     "data": {
      "image/png": "[encoded data removed]",
      "text/plain": [
       "<matplotlib.figure.Figure at 0x7f8953d1a790>"
      ]
     },
     "metadata": {},
     "output_type": "display_data"
    },
    {
     "data": {
      "image/png": "[encoded data removed]",
      "text/plain": [
       "<matplotlib.figure.Figure at 0x7f8953d1aad0>"
      ]
     },
     "metadata": {},
     "output_type": "display_data"
    },
    {
     "data": {
      "image/png": "[encoded data removed]",
      "text/plain": [
       "<matplotlib.figure.Figure at 0x7f8953674d10>"
      ]
     },
     "metadata": {},
     "output_type": "display_data"
    },
    {
     "data": {
      "image/png": "[encoded data removed]",
      "text/plain": [
       "<matplotlib.figure.Figure at 0x7f89534fbf10>"
      ]
     },
     "metadata": {},
     "output_type": "display_data"
    }
   ],
   "source": [
    "#import numpy as np\n",
    "#cols = data.columns[:10]\n",
    "#sns.pairplot(data[np.append(cols,\"Opioid.Prescriber\")], hue=\"Opioid.Prescriber\")\n",
    "\n",
    "import matplotlib.pyplot as plt\n",
    "def plot_dist(data, feat, title):\n",
    "    g = plt.figure()\n",
    "    sns.countplot(x=feat, data= data, order = data[feat].value_counts().index,palette=\"Greens_d\")\n",
    "    plt.xticks(rotation=85, fontsize = 8)\n",
    "    plt.title(title)\n",
    "    plt.show()\n",
    "    \n",
    "plot_dist(data, \"State\", \"State repartition\")\n",
    "plot_dist(data, \"Specialty\", \"Specialty repartition\")\n",
    "plot_dist(data, \"Gender\", \"Gender repartition\")\n",
    "plot_dist(data, \"Target\", \"Target class repartition\")"
   ]
  },
  {
   "cell_type": "markdown",
   "metadata": {},
   "source": [
    "# Step 2: Building a predictive model"
   ]
  },
  {
   "cell_type": "markdown",
   "metadata": {},
   "source": [
    "## Loading data with DataManager\n",
    "We reload the data with the AutoML DataManager class because this is more convenient:"
   ]
  },
  {
   "cell_type": "code",
   "execution_count": 11,
   "metadata": {},
   "outputs": [
    {
     "name": "stdout",
     "output_type": "stream",
     "text": [
      "Info file found : /home/zeneb/Documents/S4_L2MI/MiniProjet/1.SoumissionFinale/starting_kit_biomed/sample_data/Opioids_public.info\n",
      "DataManager : Opioids\n",
      "info:\n",
      "\ttask = binary.classification\n",
      "\tname = Opioids\n",
      "\tfeat_type = Numerical\n",
      "\tformat = dense\n",
      "\tis_sparse = 0\n",
      "\tmetric = auc_metric\n",
      "\ttarget_type = Numerical\n",
      "\ttest_num = 20\n",
      "\tlabel_num = 2\n",
      "\ttarget_num = 2\n",
      "\tvalid_num = 20\n",
      "\thas_categorical = 1\n",
      "\tusage = Sample dataset Opioids data\n",
      "\tfeat_num = 243\n",
      "\ttime_budget = 1200\n",
      "\ttrain_num = 20\n",
      "\thas_missing = 0\n",
      "data:\n",
      "\tX_train = array(50, 243)\n",
      "\tY_train = array(50,)\n",
      "\tX_valid = array(25, 243)\n",
      "\tX_test = array(25, 243)\n",
      "feat_type:\tarray(243,)\n",
      "feat_idx:\tarray(0,)\n",
      "\n"
     ]
    }
   ],
   "source": [
    "from data_manager import DataManager  \n",
    "D = DataManager(dataname, datadir, replace_missing=True)\n",
    "print D"
   ]
  },
  {
   "cell_type": "markdown",
   "metadata": {},
   "source": [
    "## Training a predictive model\n",
    "We provide an example of predictive model (for classification or regression) in the `sample_code_submission/` directory. It is a quite stupid model: it makes constant predictions. Replace it with your own model."
   ]
  },
  {
   "cell_type": "code",
   "execution_count": 12,
   "metadata": {
    "collapsed": true
   },
   "outputs": [],
   "source": [
    "from model import model\n",
    "??model "
   ]
  },
  {
   "cell_type": "markdown",
   "metadata": {},
   "source": [
    "Create an instance of the model (run the constructor) and attempt to reload a previously saved version from `sample_code_submission/`:"
   ]
  },
  {
   "cell_type": "code",
   "execution_count": 13,
   "metadata": {},
   "outputs": [
    {
     "name": "stdout",
     "output_type": "stream",
     "text": [
      "Model reloaded from: sample_code_submission/Opioids_model.pickle\n"
     ]
    }
   ],
   "source": [
    "M = model()\n",
    "trained_model_name = model_dir + dataname\n",
    "M = M.load(trained_model_name)                  # Attempts to re-load an already trained model"
   ]
  },
  {
   "cell_type": "markdown",
   "metadata": {},
   "source": [
    "Train and run your predictive model. If you have saved a trained model in sample_code_submission, the evaluation script will reload it and not retrain, just test. This will happen the second time you run the code because when the model is trained it gets saved. So delete iris_model.pickle from sample_code_submission if you do not want this to happen."
   ]
  },
  {
   "cell_type": "code",
   "execution_count": 14,
   "metadata": {},
   "outputs": [
    {
     "name": "stdout",
     "output_type": "stream",
     "text": [
      "PREDICT: dim(X)= [50, 243]\n",
      "PREDICT: dim(y)= [50, 1]\n",
      "PREDICT: dim(X)= [25, 243]\n",
      "PREDICT: dim(y)= [25, 1]\n",
      "PREDICT: dim(X)= [25, 243]\n",
      "PREDICT: dim(y)= [25, 1]\n"
     ]
    }
   ],
   "source": [
    "X_train = D.data['X_train']\n",
    "Y_train = D.data['Y_train']\n",
    "if not(M.is_trained):    \n",
    "    M.fit(X_train, Y_train)                     \n",
    "\n",
    "Y_hat_train = M.predict(D.data['X_train']) # Optional, not really needed to test on taining examples\n",
    "Y_hat_valid = M.predict(D.data['X_valid'])\n",
    "Y_hat_test = M.predict(D.data['X_test'])"
   ]
  },
  {
   "cell_type": "markdown",
   "metadata": {},
   "source": [
    "Save the trained model (will be ready to reload next time around) and save the prediction results:"
   ]
  },
  {
   "cell_type": "code",
   "execution_count": 15,
   "metadata": {
    "collapsed": true
   },
   "outputs": [],
   "source": [
    "M.save(trained_model_name)                 \n",
    "result_name = 'sample_result_submission/' + dataname\n",
    "from data_io import write\n",
    "write(result_name + '_valid.predict', Y_hat_valid)\n",
    "write(result_name + '_test.predict', Y_hat_test)\n",
    "#!ls $result_name*"
   ]
  },
  {
   "cell_type": "markdown",
   "metadata": {},
   "source": [
    "## Scoring the results\n",
    "### Load the challenge metric\n",
    "<b>The metric chosen for your challenge</b> is identified in the \"metric.txt\" file found in the `scoring_function/` directory. We use here the `mse_metric` metric (an example of organizer-supplied metric found in `my_metric.py`), which computes the mean-square-error. You may change that in the \"metric.txt\" file to e.g. use `bac_multiclass`, one of the AutoML challenge metrics found in `libscores.py`, which is 2*(balanced_accuracy)-1."
   ]
  },
  {
   "cell_type": "code",
   "execution_count": 16,
   "metadata": {
    "collapsed": true
   },
   "outputs": [],
   "source": [
    "import my_metric\n",
    "import libscores"
   ]
  },
  {
   "cell_type": "code",
   "execution_count": 17,
   "metadata": {},
   "outputs": [
    {
     "name": "stdout",
     "output_type": "stream",
     "text": [
      "('Using scoring metric:', 'auc_metric_')\n"
     ]
    }
   ],
   "source": [
    "with open(score_dir + '/metric.txt', 'r') as f:\n",
    "    metric_name = f.readline().strip()\n",
    "scoring_function = getattr(my_metric, 'auc_metric_')\n",
    "print('Using scoring metric:', metric_name)\n",
    "??scoring_function"
   ]
  },
  {
   "cell_type": "markdown",
   "metadata": {},
   "source": [
    "### Training performance\n",
    "The participants normally posess target values (labels) only for training examples (except for the sample data). We compute with the `example` metric the training score, which should be zero for perfect predictions."
   ]
  },
  {
   "cell_type": "code",
   "execution_count": 18,
   "metadata": {},
   "outputs": [
    {
     "data": {
      "text/plain": [
       "1"
      ]
     },
     "execution_count": 18,
     "metadata": {},
     "output_type": "execute_result"
    }
   ],
   "source": [
    "Y_train.ndim"
   ]
  },
  {
   "cell_type": "code",
   "execution_count": 19,
   "metadata": {},
   "outputs": [
    {
     "name": "stdout",
     "output_type": "stream",
     "text": [
      "Training score for the auc_metric_ metric = 0.6736\n",
      "Ideal score for the auc_metric_ metric = 1.0000\n"
     ]
    }
   ],
   "source": [
    "print 'Training score for the', metric_name, 'metric = %5.4f' % scoring_function(Y_train, Y_hat_train)\n",
    "print 'Ideal score for the', metric_name, 'metric = %5.4f' % scoring_function(Y_train, Y_train)"
   ]
  },
  {
   "cell_type": "markdown",
   "metadata": {},
   "source": [
    "### Other metrics\n",
    "It is recommended to generally use `predict_proba` to get numeric predictions between 0 an 1. However, to compute the two metrics below, you need first to threshold them. </div>"
   ]
  },
  {
   "cell_type": "code",
   "execution_count": 20,
   "metadata": {},
   "outputs": [
    {
     "name": "stdout",
     "output_type": "stream",
     "text": [
      "Training accuracy = 0.6400\n",
      "Confusion matrix [known in lines, predicted in columns]=\n",
      "[[17  1]\n",
      " [17 15]]\n"
     ]
    }
   ],
   "source": [
    "y_hat_train = 1*(Y_hat_train>0.5)   # This turns the outputs to binary predictions 0/1\n",
    "# Compute accuracy and confusion matrix:\n",
    "from sklearn.metrics import accuracy_score\n",
    "from sklearn.metrics import confusion_matrix\n",
    "print 'Training accuracy = %5.4f' % accuracy_score(Y_train, y_hat_train)\n",
    "print 'Confusion matrix [known in lines, predicted in columns]=\\n',confusion_matrix(Y_train, y_hat_train)"
   ]
  },
  {
   "cell_type": "markdown",
   "metadata": {},
   "source": [
    "### Cross-validation performance\n",
    "The participants do not have access to the labels Y_valid and Y_test to self-assess their validation and test performances. But training performance is not a good prediction of validation or test performance. Using cross-validation, the training data is split into multiple training/test folds, which allows participants to self-assess their model during development."
   ]
  },
  {
   "cell_type": "code",
   "execution_count": 21,
   "metadata": {},
   "outputs": [
    {
     "name": "stdout",
     "output_type": "stream",
     "text": [
      "FIT: dim(X)= [33, 243]\n",
      "FIT: dim(y)= [33, 1]\n",
      "PREDICT: dim(X)= [17, 243]\n",
      "PREDICT: dim(y)= [17, 1]\n",
      "('Fold', 1, 'example metric = ', 0.35714285714285721)\n",
      "FIT: dim(X)= [33, 243]\n",
      "FIT: dim(y)= [33, 1]\n",
      "PREDICT: dim(X)= [17, 243]\n",
      "PREDICT: dim(y)= [17, 1]\n",
      "('Fold', 2, 'example metric = ', 0.019230769230769162)\n",
      "FIT: dim(X)= [34, 243]\n",
      "FIT: dim(y)= [34, 1]\n",
      "PREDICT: dim(X)= [16, 243]\n",
      "PREDICT: dim(y)= [16, 1]\n",
      "('Fold', 3, 'example metric = ', 0.16666666666666674)\n",
      "('Average score = ', 0.18101343101343104)\n"
     ]
    }
   ],
   "source": [
    "from sklearn.model_selection import KFold\n",
    "from numpy import zeros, mean\n",
    "# 3-fold cross-validation\n",
    "n = 3\n",
    "kf = KFold(n_splits=n)\n",
    "kf.get_n_splits(X_train)\n",
    "i=0\n",
    "scores = zeros(n)\n",
    "for train_index, test_index in kf.split(X_train):\n",
    "    Xtr, Xva = X_train[train_index], X_train[test_index]\n",
    "    Ytr, Yva = Y_train[train_index], Y_train[test_index]\n",
    "    M = model()\n",
    "    M.fit(Xtr, Ytr)\n",
    "    Yhat = M.predict(Xva)\n",
    "    scores[i] = scoring_function(Yva, Yhat)\n",
    "    print ('Fold', i+1, 'example metric = ', scores[i])\n",
    "    i=i+1\n",
    "print ('Average score = ', mean(scores))"
   ]
  },
  {
   "cell_type": "markdown",
   "metadata": {},
   "source": [
    "# Step 3: Making a submission\n",
    "\n",
    "## Unit testing\n",
    "\n",
    "It is <b><span style=\"color:red\">important that you test your submission files before submitting them</span></b>. All you have to do to make a submission is modify the file <code>model.py</code> in the <code>sample_code_submission/</code> directory, then run this test to make sure everything works fine. This is the actual program that will be run on the server to test your submission. "
   ]
  },
  {
   "cell_type": "code",
   "execution_count": 22,
   "metadata": {
    "collapsed": true,
    "scrolled": true
   },
   "outputs": [],
   "source": [
    "outdir = 'sample_result_submission'     "
   ]
  },
  {
   "cell_type": "code",
   "execution_count": 23,
   "metadata": {
    "scrolled": true
   },
   "outputs": [
    {
     "name": "stdout",
     "output_type": "stream",
     "text": [
      "Using input_dir: /home/zeneb/Documents/S4_L2MI/MiniProjet/1.SoumissionFinale/starting_kit_biomed/sample_data\n",
      "Using output_dir: /home/zeneb/Documents/S4_L2MI/MiniProjet/1.SoumissionFinale/starting_kit_biomed/sample_result_submission\n",
      "Using program_dir: /home/zeneb/Documents/S4_L2MI/MiniProjet/1.SoumissionFinale/starting_kit_biomed/ingestion_program\n",
      "Using submission_dir: /home/zeneb/Documents/S4_L2MI/MiniProjet/1.SoumissionFinale/starting_kit_biomed/sample_code_submission\n",
      "\n",
      "========== Ingestion program version 6 ==========\n",
      "\n",
      "************************************************\n",
      "******** Processing dataset Opioids ********\n",
      "************************************************\n",
      "========= Reading and converting data ==========\n",
      "Info file found : /home/zeneb/Documents/S4_L2MI/MiniProjet/1.SoumissionFinale/starting_kit_biomed/sample_data/Opioids_public.info\n",
      "========= Reading /home/zeneb/Documents/S4_L2MI/MiniProjet/1.SoumissionFinale/starting_kit_biomed/sample_data/Opioids_feat.type\n",
      "[+] Success in  0.00 sec\n",
      "========= Reading /home/zeneb/Documents/S4_L2MI/MiniProjet/1.SoumissionFinale/starting_kit_biomed/sample_data/Opioids_train.data\n",
      "[+] Success in  0.00 sec\n",
      "========= Reading /home/zeneb/Documents/S4_L2MI/MiniProjet/1.SoumissionFinale/starting_kit_biomed/sample_data/Opioids_train.solution\n",
      "[+] Success in  0.00 sec\n",
      "========= Reading /home/zeneb/Documents/S4_L2MI/MiniProjet/1.SoumissionFinale/starting_kit_biomed/sample_data/Opioids_valid.data\n",
      "[+] Success in  0.00 sec\n",
      "========= Reading /home/zeneb/Documents/S4_L2MI/MiniProjet/1.SoumissionFinale/starting_kit_biomed/sample_data/Opioids_test.data\n",
      "[+] Success in  0.00 sec\n",
      "DataManager : Opioids\n",
      "info:\n",
      "\ttask = binary.classification\n",
      "\tname = Opioids\n",
      "\tfeat_type = Numerical\n",
      "\tformat = dense\n",
      "\tis_sparse = 0\n",
      "\tmetric = auc_metric\n",
      "\ttarget_type = Numerical\n",
      "\ttest_num = 20\n",
      "\tlabel_num = 2\n",
      "\ttarget_num = 2\n",
      "\tvalid_num = 20\n",
      "\thas_categorical = 1\n",
      "\tusage = Sample dataset Opioids data\n",
      "\tfeat_num = 243\n",
      "\ttime_budget = 1200\n",
      "\ttrain_num = 20\n",
      "\thas_missing = 0\n",
      "data:\n",
      "\tX_train = array(50, 243)\n",
      "\tY_train = array(50,)\n",
      "\tX_valid = array(25, 243)\n",
      "\tX_test = array(25, 243)\n",
      "feat_type:\tarray(243,)\n",
      "feat_idx:\tarray(243,)\n",
      "\n",
      "[+] Size of uploaded data  72.00 bytes\n",
      "[+] Cumulated time budget (all tasks so far)  1200.00 sec\n",
      "[+] Time budget for this task 1200.00 sec\n",
      "[+] Remaining time after reading data 1200.00 sec\n",
      "======== Creating model ==========\n",
      "**********************************************************\n",
      "****** Attempting to reload model to avoid training ******\n",
      "**********************************************************\n",
      "Model reloaded from: /home/zeneb/Documents/S4_L2MI/MiniProjet/1.SoumissionFinale/starting_kit_biomed/sample_code_submission/Opioids_model.pickle\n",
      "[+] Model reloaded, no need to train!\n",
      "PREDICT: dim(X)= [50, 243]\n",
      "PREDICT: dim(y)= [50, 1]\n",
      "PREDICT: dim(X)= [25, 243]\n",
      "PREDICT: dim(y)= [25, 1]\n",
      "PREDICT: dim(X)= [25, 243]\n",
      "PREDICT: dim(y)= [25, 1]\n",
      "[+] Prediction success, time spent so far  0.00 sec\n",
      "======== Saving results to: /home/zeneb/Documents/S4_L2MI/MiniProjet/1.SoumissionFinale/starting_kit_biomed/sample_result_submission\n",
      "[+] Results saved, time spent so far  0.00 sec\n",
      "[+] End cycle, time left 1200.00 sec\n",
      "[+] Done\n",
      "[+] Overall time spent  0.74 sec ::  Overall time budget 1200.00 sec\n"
     ]
    }
   ],
   "source": [
    "!python $problem_dir/ingestion.py $datadir $outdir $problem_dir $model_dir"
   ]
  },
  {
   "cell_type": "markdown",
   "metadata": {
    "collapsed": true
   },
   "source": [
    "## Preparing the submission\n",
    "\n",
    "Zip the contents of `sample_code_submission/` (without the directory), or download the challenge public_data and run the command in the previous cell, after replacing sample_data by public_data.\n",
    "Then zip the contents of `sample_result_submission/` (without the directory).\n",
    "<b><span style=\"color:red\">Do NOT zip the data with your submissions</span></b>."
   ]
  },
  {
   "cell_type": "markdown",
   "metadata": {},
   "source": [
    "# NOTRE TRAVAIL\n"
   ]
  },
  {
   "cell_type": "markdown",
   "metadata": {},
   "source": [
    "# Binome Preprocessing\n"
   ]
  },
  {
   "cell_type": "code",
   "execution_count": 24,
   "metadata": {
    "collapsed": true
   },
   "outputs": [],
   "source": [
    "from sklearn.base import BaseEstimator \n",
    "\n",
    "def identity(x): \n",
    "\n",
    "    return x \n",
    "\n",
    "class SimpleTransform(BaseEstimator): \n",
    "\n",
    "    def __init__(self, transformer=identity): \n",
    "\n",
    "        self.transformer = transformer \n",
    "\n",
    "    def fit(self, X, y=None): \n",
    "\n",
    "        return self \n",
    "\n",
    "    def fit_transform(self, X, y=None): \n",
    "\n",
    "        return self.transform(X) \n",
    "\n",
    "    def transform(self, X, y=None): \n",
    "\n",
    "        return np.array([self.transformer(x) for x in X], ndmin=2).T "
   ]
  },
  {
   "cell_type": "markdown",
   "metadata": {},
   "source": [
    "Selecions de données "
   ]
  },
  {
   "cell_type": "code",
   "execution_count": 25,
   "metadata": {},
   "outputs": [
    {
     "data": {
      "text/plain": [
       "(50, 17)"
      ]
     },
     "execution_count": 25,
     "metadata": {},
     "output_type": "execute_result"
    }
   ],
   "source": [
    "from sklearn.svm import LinearSVC\n",
    "from sklearn.feature_selection import SelectKBest\n",
    "from sklearn.feature_selection import SelectFromModel\n",
    "\n",
    "X = X_train\n",
    "target = Y_train\n",
    "\n",
    "L = LinearSVC(C = 0.01, penalty = \"l1\", dual = False).fit(X,target)\n",
    "model = SelectFromModel(L, prefit=True)\n",
    "X_new = model.transform(X)\n",
    "X_new.shape"
   ]
  },
  {
   "cell_type": "code",
   "execution_count": 26,
   "metadata": {},
   "outputs": [
    {
     "data": {
      "text/plain": [
       "(50, 59)"
      ]
     },
     "execution_count": 26,
     "metadata": {},
     "output_type": "execute_result"
    }
   ],
   "source": [
    "from sklearn.ensemble import ExtraTreesClassifier\n",
    "from sklearn.feature_selection import SelectFromModel\n",
    "X = X_train\n",
    "target = Y_train\n",
    "\n",
    "X.shape\n",
    "clf = ExtraTreesClassifier()\n",
    "clf = clf.fit(X,target)\n",
    "clf.feature_importances_\n",
    "model = SelectFromModel(clf, prefit = True)\n",
    "X_nouveau = model.transform(X)\n",
    "X_nouveau.shape\n"
   ]
  },
  {
   "cell_type": "markdown",
   "metadata": {},
   "source": [
    "# Binome Modele predict\n"
   ]
  },
  {
   "cell_type": "code",
   "execution_count": 27,
   "metadata": {
    "collapsed": true
   },
   "outputs": [],
   "source": [
    "class model(BaseEstimator): \n",
    "\n",
    "    def __init__(self): \n",
    "\n",
    "        pass \n",
    "\n",
    "    def fit(self, X, y): \n",
    "\n",
    "        self.clf =  Pipeline([ ('feature_selection', SelectFromModel(LinearSVC(penalty=\"l1\"))), \n",
    "                               ('classification', RandomForestClassifier()) ])\n",
    "        self.clf.fit(X, y) \n",
    "\n",
    "    def predict(self, X): \n",
    "\n",
    "        return self.clf.predict(X) \n",
    "\n",
    "    def predict_proba(self, X): \n",
    "\n",
    "        return self.clf.predict_proba(X) # The classes are in the order of the labels returned by get_classes \n",
    "\n",
    "    def get_classes(self): \n",
    "\n",
    "        return self.clf.classes_ \n",
    "\n",
    "    def save(self, path=\"./\"): \n",
    "\n",
    "        pickle.dump(self, open(path + '_model.pickle', \"w\")) \n",
    "\n",
    "    def load(self, path=\"./\"): \n",
    "\n",
    "        self = pickle.load(open(path + '_model.pickle')) \n",
    "\n",
    "        return self "
   ]
  },
  {
   "cell_type": "code",
   "execution_count": 28,
   "metadata": {},
   "outputs": [
    {
     "name": "stdout",
     "output_type": "stream",
     "text": [
      " predicted_train: [ 0.  0.  1.  1.  0.  0.  1.  1.  0.  1.  0.  1.  0.  0.  0.  1.  0.  1.\n",
      "  1.  1.  1.  0.  1.  1.  1.  1.  1.  0.  1.  1.  1.  1.  0.  0.  1.  1.\n",
      "  0.  0.  1.  1.  1.  0.  1.  1.  1.  1.  0.  1.  1.  1.]\n",
      "pred_pro: [[ 0.3  0.7]\n",
      " [ 0.7  0.3]\n",
      " [ 0.9  0.1]\n",
      " [ 0.   1. ]\n",
      " [ 0.7  0.3]\n",
      " [ 0.2  0.8]\n",
      " [ 0.3  0.7]\n",
      " [ 0.3  0.7]\n",
      " [ 0.6  0.4]\n",
      " [ 0.4  0.6]\n",
      " [ 0.5  0.5]\n",
      " [ 0.3  0.7]\n",
      " [ 0.5  0.5]\n",
      " [ 0.7  0.3]\n",
      " [ 0.5  0.5]\n",
      " [ 0.1  0.9]\n",
      " [ 0.1  0.9]\n",
      " [ 0.5  0.5]\n",
      " [ 0.7  0.3]\n",
      " [ 0.8  0.2]\n",
      " [ 0.8  0.2]\n",
      " [ 0.   1. ]\n",
      " [ 0.7  0.3]\n",
      " [ 0.6  0.4]\n",
      " [ 0.3  0.7]]\n"
     ]
    },
    {
     "data": {
      "text/plain": [
       "array([ 0.,  1.])"
      ]
     },
     "execution_count": 28,
     "metadata": {},
     "output_type": "execute_result"
    }
   ],
   "source": [
    "target = Y_train\n",
    "X_test=(D.data['X_test'])\n",
    "clf.fit(X_train,target)\n",
    "predicted_train = clf.predict(X_train)\n",
    "print \" predicted_train:\",predicted_train\n",
    "pred_pro = clf.predict_proba(X_test)\n",
    "print \"pred_pro:\",pred_pro\n",
    "clf.classes_"
   ]
  },
  {
   "cell_type": "code",
   "execution_count": 29,
   "metadata": {},
   "outputs": [
    {
     "name": "stdout",
     "output_type": "stream",
     "text": [
      "Training:\n",
      "RandomForestClassifier: 0.621323529412\n",
      "GradientBoostingClassifier: 0.740196078431\n",
      "DecisionTreeClassifier: 0.697303921569\n",
      "Perceptron: 0.761029411765\n",
      "SVC: 0.680147058824\n",
      "Cross-validation:\n",
      "RandomForestClassifier: 0.605555555556\n"
     ]
    },
    {
     "name": "stderr",
     "output_type": "stream",
     "text": [
      "/home/zeneb/ENTER/lib/python2.7/site-packages/sklearn/linear_model/stochastic_gradient.py:128: FutureWarning: max_iter and tol parameters have been added in <class 'sklearn.linear_model.perceptron.Perceptron'> in 0.19. If both are left unset, they default to max_iter=5 and tol=None. If tol is not None, max_iter defaults to max_iter=1000. From 0.21, default max_iter will be 1000, and default tol will be 1e-3.\n",
      "  \"and default tol will be 1e-3.\" % type(self), FutureWarning)\n"
     ]
    },
    {
     "name": "stdout",
     "output_type": "stream",
     "text": [
      "GradientBoostingClassifier: 0.711111111111\n",
      "DecisionTreeClassifier: 0.644444444444\n",
      "Perceptron: 0.744444444444\n",
      "SVC: 0.588888888889\n",
      "Validation:\n",
      "RandomForestClassifier: 0.633333333333\n",
      "GradientBoostingClassifier: 0.511111111111\n",
      "DecisionTreeClassifier: 0.511111111111\n",
      "Perceptron: 0.5\n",
      "SVC: 0.755555555556\n"
     ]
    }
   ],
   "source": [
    "from sklearn.model_selection import cross_val_score\n",
    "from sklearn.ensemble import RandomForestClassifier\n",
    "from sklearn.ensemble import GradientBoostingClassifier\n",
    "from sklearn.linear_model import Perceptron\n",
    "from sklearn.svm import SVC\n",
    "from sklearn import tree\n",
    "X = X_train\n",
    "Y = Y_train\n",
    "\n",
    "print \"Training:\"\n",
    "clf = RandomForestClassifier(n_estimators=10)\n",
    "clf = clf.fit(X, Y)                            \n",
    "scores = cross_val_score(clf, X, Y)\n",
    "print \"RandomForestClassifier:\", scores.mean()\n",
    "\n",
    "clf = GradientBoostingClassifier(n_estimators=10)\n",
    "clf = clf.fit(X, Y)                            \n",
    "scores = cross_val_score(clf, X, Y)\n",
    "print \"GradientBoostingClassifier:\" ,scores.mean()\n",
    "\n",
    "clf = tree.DecisionTreeClassifier()\n",
    "clf = clf.fit(X, Y)                            \n",
    "scores = cross_val_score(clf, X, Y)\n",
    "print \"DecisionTreeClassifier:\", scores.mean()\n",
    "\n",
    "clf = Perceptron()\n",
    "clf = clf.fit(X, Y)                            \n",
    "scores = cross_val_score(clf, X, Y)\n",
    "print \"Perceptron:\" ,scores.mean()\n",
    "\n",
    "clf = SVC()\n",
    "clf = clf.fit(X, Y)                            \n",
    "scores = cross_val_score(clf, X, Y)\n",
    "print \"SVC:\" ,scores.mean()\n",
    "\n",
    "print \"Cross-validation:\"\n",
    "Xcv= Xtr\n",
    "Ycv= Ytr\n",
    "\n",
    "clf = RandomForestClassifier(n_estimators=10)\n",
    "clf = clf.fit(Xcv, Ycv)                            \n",
    "scores = cross_val_score(clf, Xcv, Ycv)\n",
    "print \"RandomForestClassifier:\", scores.mean()\n",
    "\n",
    "clf = GradientBoostingClassifier(n_estimators=10)\n",
    "clf = clf.fit(Xcv, Ycv)                            \n",
    "scores = cross_val_score(clf, Xcv, Ycv)\n",
    "print \"GradientBoostingClassifier:\" ,scores.mean()\n",
    "\n",
    "clf = tree.DecisionTreeClassifier()\n",
    "clf = clf.fit(Xcv, Ycv)                            \n",
    "scores = cross_val_score(clf, Xcv, Ycv)\n",
    "print \"DecisionTreeClassifier:\", scores.mean()\n",
    "\n",
    "clf = Perceptron()\n",
    "clf = clf.fit(Xcv, Ycv)                            \n",
    "scores = cross_val_score(clf, Xcv, Ycv)\n",
    "print \"Perceptron:\" ,scores.mean()\n",
    "\n",
    "clf = SVC()\n",
    "clf = clf.fit(Xcv, Ycv)                            \n",
    "scores = cross_val_score(clf, Xcv, Ycv)\n",
    "print \"SVC:\" ,scores.mean()\n",
    "\n",
    "\n",
    "print \"Validation:\"\n",
    "\n",
    "x= Xva\n",
    "y= Yva\n",
    "\n",
    "clf = RandomForestClassifier(n_estimators=10)\n",
    "clf = clf.fit(x, y)                            \n",
    "scores = cross_val_score(clf, x, y)\n",
    "print \"RandomForestClassifier:\", scores.mean()\n",
    "\n",
    "clf = GradientBoostingClassifier(n_estimators=10)\n",
    "clf = clf.fit(x, y)                            \n",
    "scores = cross_val_score(clf, x, y)\n",
    "print \"GradientBoostingClassifier:\" ,scores.mean()\n",
    "\n",
    "clf = tree.DecisionTreeClassifier()\n",
    "clf = clf.fit(x, y)                            \n",
    "scores = cross_val_score(clf, x, y)\n",
    "print \"DecisionTreeClassifier:\", scores.mean()\n",
    "\n",
    "clf = Perceptron()\n",
    "clf = clf.fit(x, y)                            \n",
    "scores = cross_val_score(clf, x, y)\n",
    "print \"Perceptron:\" ,scores.mean()\n",
    "\n",
    "clf = SVC()\n",
    "clf = clf.fit(x, y)                            \n",
    "scores = cross_val_score(clf, x, y)\n",
    "print \"SVC:\" ,scores.mean()"
   ]
  },
  {
   "cell_type": "code",
   "execution_count": 30,
   "metadata": {},
   "outputs": [
    {
     "name": "stdout",
     "output_type": "stream",
     "text": [
      "12150 50\n",
      "3888 16\n",
      "8262 34\n",
      "25 25\n"
     ]
    }
   ],
   "source": [
    "print X_train.size ,Y_train.size\n",
    "print Xva.size, Yva.size\n",
    "print Xtr.size, Ytr.size\n",
    "print Y_hat_test.size, Y_hat_valid.size\n",
    "\n"
   ]
  },
  {
   "cell_type": "code",
   "execution_count": 31,
   "metadata": {},
   "outputs": [
    {
     "name": "stdout",
     "output_type": "stream",
     "text": [
      "saparsity_training: 0.116049382716\n"
     ]
    }
   ],
   "source": [
    "import numpy as np\n",
    "print\"saparsity_training:\",float(np.count_nonzero(X_train))/(X_train.size)"
   ]
  },
  {
   "cell_type": "code",
   "execution_count": 32,
   "metadata": {},
   "outputs": [
    {
     "name": "stdout",
     "output_type": "stream",
     "text": [
      "saparsity_validation: 0.0941563786008\n"
     ]
    }
   ],
   "source": [
    "X_valid=D.data['X_valid']\n",
    "print\"saparsity_validation:\",float(np.count_nonzero(X_valid))/(X_valid.size)"
   ]
  },
  {
   "cell_type": "code",
   "execution_count": 33,
   "metadata": {},
   "outputs": [
    {
     "name": "stdout",
     "output_type": "stream",
     "text": [
      "saparsity_test: 0.0551440329218\n"
     ]
    }
   ],
   "source": [
    "X_test=D.data['X_test']\n",
    "print\"saparsity_test:\",float(np.count_nonzero(X_test))/(X_test.size)"
   ]
  },
  {
   "cell_type": "code",
   "execution_count": null,
   "metadata": {
    "collapsed": true
   },
   "outputs": [],
   "source": []
  },
  {
   "cell_type": "code",
   "execution_count": null,
   "metadata": {
    "collapsed": true
   },
   "outputs": [],
   "source": []
  }
 ],
 "metadata": {
  "celltoolbar": "Edit Metadata",
  "kernelspec": {
   "display_name": "Python 2",
   "language": "python",
   "name": "python2"
  },
  "language_info": {
   "codemirror_mode": {
    "name": "ipython",
    "version": 2
   },
   "file_extension": ".py",
   "mimetype": "text/x-python",
   "name": "python",
   "nbconvert_exporter": "python",
   "pygments_lexer": "ipython2",
   "version": "2.7.14"
  }
 },
 "nbformat": 4,
 "nbformat_minor": 1
}
